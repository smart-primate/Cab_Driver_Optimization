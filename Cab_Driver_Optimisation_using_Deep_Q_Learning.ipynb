{
 "cells": [
  {
   "cell_type": "markdown",
   "metadata": {},
   "source": [
    "### Cab-Driver Agent"
   ]
  },
  {
   "cell_type": "code",
   "execution_count": 1,
   "metadata": {},
   "outputs": [],
   "source": [
    "# Importing libraries\n",
    "import numpy as np\n",
    "import random\n",
    "import math\n",
    "from collections import deque\n",
    "import collections\n",
    "import pickle\n",
    "import time\n",
    "\n",
    "# for plotting graphs\n",
    "import matplotlib.pyplot as plt\n",
    "\n",
    "# Import the environment\n",
    "from Env3 import CabDriver\n",
    "env = CabDriver()"
   ]
  },
  {
   "cell_type": "code",
   "execution_count": 2,
   "metadata": {},
   "outputs": [
    {
     "name": "stderr",
     "output_type": "stream",
     "text": [
      "2022-01-25 07:30:21.490862: W tensorflow/stream_executor/platform/default/dso_loader.cc:64] Could not load dynamic library 'libcudart.so.11.0'; dlerror: libcudart.so.11.0: cannot open shared object file: No such file or directory\n",
      "2022-01-25 07:30:21.490885: I tensorflow/stream_executor/cuda/cudart_stub.cc:29] Ignore above cudart dlerror if you do not have a GPU set up on your machine.\n"
     ]
    }
   ],
   "source": [
    "# for building DQN model\n",
    "from tensorflow.keras import layers\n",
    "from tensorflow.keras import Sequential\n",
    "from tensorflow.keras.layers import Dense, Activation, Flatten\n",
    "from tensorflow.keras.optimizers import Adam"
   ]
  },
  {
   "cell_type": "code",
   "execution_count": 3,
   "metadata": {},
   "outputs": [
    {
     "name": "stdout",
     "output_type": "stream",
     "text": [
      "WARNING:tensorflow:From /home/siddhant/anaconda3/lib/python3.8/site-packages/tensorflow/python/compat/v2_compat.py:96: disable_resource_variables (from tensorflow.python.ops.variable_scope) is deprecated and will be removed in a future version.\n",
      "Instructions for updating:\n",
      "non-resource variables are not supported in the long term\n"
     ]
    },
    {
     "name": "stderr",
     "output_type": "stream",
     "text": [
      "2022-01-25 07:30:25.366380: I tensorflow/core/platform/cpu_feature_guard.cc:142] This TensorFlow binary is optimized with oneAPI Deep Neural Network Library (oneDNN) to use the following CPU instructions in performance-critical operations:  AVX2 FMA\n",
      "To enable them in other operations, rebuild TensorFlow with the appropriate compiler flags.\n",
      "2022-01-25 07:30:25.368690: W tensorflow/stream_executor/platform/default/dso_loader.cc:64] Could not load dynamic library 'libcuda.so.1'; dlerror: libcuda.so.1: cannot open shared object file: No such file or directory\n",
      "2022-01-25 07:30:25.368723: W tensorflow/stream_executor/cuda/cuda_driver.cc:326] failed call to cuInit: UNKNOWN ERROR (303)\n",
      "2022-01-25 07:30:25.368745: I tensorflow/stream_executor/cuda/cuda_diagnostics.cc:156] kernel driver does not appear to be running on this host (Kamna): /proc/driver/nvidia/version does not exist\n"
     ]
    },
    {
     "name": "stdout",
     "output_type": "stream",
     "text": [
      "WARNING:tensorflow:From /tmp/ipykernel_7210/4256061763.py:11: The name tf.keras.backend.set_session is deprecated. Please use tf.compat.v1.keras.backend.set_session instead.\n",
      "\n"
     ]
    }
   ],
   "source": [
    "import tensorflow.compat.v1 as tf\n",
    "\n",
    "tf.disable_v2_behavior()\n",
    "jobs = 8\n",
    "config = tf.ConfigProto(intra_op_parallelism_threads = jobs, inter_op_parallelism_threads=jobs, \n",
    "                        allow_soft_placement = True,\n",
    "                        device_count={'CPU':jobs})\n",
    "session = tf.Session(config=config)\n",
    "\n",
    "from tensorflow.compat.v1.keras import backend as K\n",
    "K.set_session(session)"
   ]
  },
  {
   "cell_type": "markdown",
   "metadata": {},
   "source": [
    "#### Defining Time Matrix\n",
    "\n",
    "Note on location numbering:\n",
    "- The states (locations) at which the cab driver can be located are numbered from 1 to 5 in our MDP.\n",
    "- This is contrary to how it is defined in the Time Matrix, where the locations are numbered 0 to 4. \n",
    "- Hence, we use the MDP definition of the location numbering, but subtract '1' from it whenever the Time Matrix needs to be referred."
   ]
  },
  {
   "cell_type": "code",
   "execution_count": 6,
   "metadata": {},
   "outputs": [],
   "source": [
    "# Loading the time matrix provided\n",
    "Time_matrix = np.load(\"TM.npy\")"
   ]
  },
  {
   "cell_type": "code",
   "execution_count": 7,
   "metadata": {},
   "outputs": [
    {
     "data": {
      "text/plain": [
       "(5, 5, 24, 7)"
      ]
     },
     "execution_count": 7,
     "metadata": {},
     "output_type": "execute_result"
    }
   ],
   "source": [
    "Time_matrix.shape"
   ]
  },
  {
   "cell_type": "code",
   "execution_count": 8,
   "metadata": {},
   "outputs": [
    {
     "data": {
      "text/plain": [
       "array([1., 1., 1., 1., 1., 1., 5., 5., 5., 5., 5., 5., 0., 0., 0., 0., 0.,\n",
       "       0., 2., 2., 2., 2., 2., 2.])"
      ]
     },
     "execution_count": 8,
     "metadata": {},
     "output_type": "execute_result"
    }
   ],
   "source": [
    "Time_matrix[1,4,:,5]"
   ]
  },
  {
   "cell_type": "code",
   "execution_count": 9,
   "metadata": {},
   "outputs": [
    {
     "name": "stdout",
     "output_type": "stream",
     "text": [
      "<class 'numpy.ndarray'>\n",
      "11.0\n",
      "0.0\n",
      "3.0542857142857143\n",
      "7.93705306122449\n"
     ]
    }
   ],
   "source": [
    "print(type(Time_matrix))\n",
    "print(Time_matrix.max())\n",
    "print(Time_matrix.min())\n",
    "print(Time_matrix.mean())\n",
    "print(Time_matrix.var())"
   ]
  },
  {
   "cell_type": "markdown",
   "metadata": {},
   "source": [
    "### Agent Class\n",
    "\n",
    "If you are using this framework, you need to fill the following to complete the following code block:\n",
    "1. State and Action Size\n",
    "2. Hyperparameters\n",
    "3. Create a neural-network model in function 'build_model()'\n",
    "4. Define epsilon-greedy strategy in function 'get_action()'\n",
    "5. Complete the function 'append_sample()'. This function appends the recent experience tuple <state, action, reward, new-state> to the memory\n",
    "6. Complete the 'train_model()' function with following logic:\n",
    "   - If the memory size is greater than mini-batch size, you randomly sample experiences from memory as per the mini-batch size and do the following:\n",
    "      - Initialise your input and output batch for training the model\n",
    "      - Calculate the target Q value for each sample: reward + gamma*max(Q(s'a,))\n",
    "      - Get Q(s', a) values from the last trained model\n",
    "      - Update the input batch as your encoded state and output batch as your Q-values\n",
    "      - Then fit your DQN model using the updated input and output batch."
   ]
  },
  {
   "cell_type": "code",
   "execution_count": 10,
   "metadata": {},
   "outputs": [],
   "source": [
    "class DQNAgent:\n",
    "    def __init__(self, state_size, action_size):\n",
    "        # Define size of state and action\n",
    "        self.state_size = state_size\n",
    "        self.action_size = action_size\n",
    "\n",
    "        # Write here: Specify you hyper parameters for the DQN\n",
    "        self.discount_factor = 0.95\n",
    "        self.learning_rate = 0.001       \n",
    "        self.epsilon = 1\n",
    "        self.epsilon_max = 1\n",
    "        self.epsilon_decay = 0.0003\n",
    "        self.epsilon_min = 0.00001\n",
    "              \n",
    "        self.batch_size = 32        \n",
    "        \n",
    "        # create replay memory using deque\n",
    "        self.memory = deque(maxlen=2000)\n",
    "        \n",
    "        # Initialize the value of the states tracked\n",
    "        self.states_tracked = []\n",
    "        self.track_state = np.array(env.state_encod_arch1([1,0,0])).reshape(1, 36)\n",
    "        \n",
    "        # create main model and target model\n",
    "        self.model = self.build_model()\n",
    "\n",
    "    # approximate Q function using Neural Network\n",
    "    def build_model(self):\n",
    "        \n",
    "        model = Sequential()\n",
    "        \n",
    "        # Write your code here: Add layers to your neural nets       \n",
    "        model.add(Dense(32, input_dim=self.state_size, activation='relu', kernel_initializer='he_uniform'))\n",
    "        model.add(Dense(32, activation='relu', kernel_initializer='he_uniform'))\n",
    "        model.add(Dense(self.action_size, activation='relu', kernel_initializer='he_uniform'))\n",
    "        \n",
    "        model.compile(loss='mse',optimizer=Adam(learning_rate=self.learning_rate))\n",
    "        model.summary\n",
    "        \n",
    "        return model\n",
    "\n",
    "    \n",
    "    def get_action(self, state, action_space, possible_actions_index):\n",
    "        # Write your code here:\n",
    "        # get action from model using epsilon-greedy policy\n",
    "        # Decay in ε after we generate each sample from the environment       \n",
    "        \n",
    "        if np.random.rand() <= self.epsilon:\n",
    "            # explore: choose a random action from all possible actions\n",
    "            # return random.choice(possible_actions_index)\n",
    "            \n",
    "            index = random.randrange(len(possible_actions_index))\n",
    "            action_index = possible_actions_index[index]\n",
    "            action = action_space[action_index]\n",
    "            return action_index, action\n",
    "    \n",
    "        else:\n",
    "            # choose the action with the highest q(s, a)\n",
    "            # the first index corresponds to the batch size, so reshape state to (1, state_size) \n",
    "            # so that the first index corresponds to the batch size\n",
    "            \n",
    "            state = np.array(state).reshape(1, self.state_size)\n",
    "\n",
    "            # Use the model to predict the Q_values.\n",
    "            q_value = self.model.predict(state)\n",
    "\n",
    "            #return possible_actions_index[np.argmax(q_vals_possible)]\n",
    "            return np.argmax(q_value[0]), action_space[np.argmax(q_value[0])]\n",
    "\n",
    "    def append_sample(self, state, action, reward, next_state):\n",
    "        # Write your code here:\n",
    "        # save sample <s,a,r,s'> to the replay memory\n",
    "        self.memory.append((state, action, reward, next_state))\n",
    "    \n",
    "    \n",
    "    # pick samples randomly from replay memory (with batch_size) and train the network\n",
    "    def train_model(self):\n",
    "        \n",
    "        if len(self.memory) > self.batch_size:\n",
    "            # Sample batch from the memory\n",
    "            mini_batch = random.sample(self.memory, self.batch_size)\n",
    "            update_output = np.zeros((self.batch_size, self.state_size)) # write here\n",
    "            update_input = np.zeros((self.batch_size, self.state_size)) # write here\n",
    "            \n",
    "            actions, rewards = [], []\n",
    "            \n",
    "            for i in range(self.batch_size):\n",
    "                state, action, reward, next_state = mini_batch[i]\n",
    "                update_input[i] = state\n",
    "                actions.append(action)\n",
    "                rewards.append(reward)\n",
    "                update_output[i] = next_state\n",
    "                \n",
    "            # Write your code from here\n",
    "            \n",
    "            # 1. Predict the target from earlier model\n",
    "            target = self.model.predict(update_input)\n",
    "                \n",
    "            # 2. Get the target for the Q-network\n",
    "            target_qval = self.model.predict(update_output)\n",
    "                \n",
    "            #3. Update your 'update_output' and 'update_input' batch\n",
    "            for i in range(self.batch_size):\n",
    "                target[i][actions[i]] = rewards[i] + self.discount_factor * np.max(target_qval[i])\n",
    "                \n",
    "            # 4. Fit your model and track the loss values\n",
    "            self.model.fit(update_input, target, batch_size=self.batch_size, epochs=1, verbose=0)\n",
    "    \n",
    "    def store_q_values(self):\n",
    "        # Use the model to predict the q_value of the state we are tacking.\n",
    "        q_value = self.model.predict(self.track_state)\n",
    "        \n",
    "        # Grab the q_value of the action index that we are tracking. Action = (1,3). \n",
    "        # See note earlier about difference between location numbering in MDP and Time Matrix\n",
    "        self.states_tracked.append(q_value[0][2])\n",
    "    \n",
    "    #Defining a function to save the model weights to a pickle file\n",
    "    def save_weights(self, name):\n",
    "        with open(name + '.pkl', 'wb') as f:\n",
    "            pickle.dump(self.model.get_weights(), f, pickle.HIGHEST_PROTOCOL)\n",
    "    \n",
    "    # Defining a function to save the model itself at regular intervals.\n",
    "    def save_model(self, model_name):\n",
    "        self.model.save(model_name)"
   ]
  },
  {
   "cell_type": "code",
   "execution_count": 11,
   "metadata": {},
   "outputs": [],
   "source": [
    "Episodes = 20000"
   ]
  },
  {
   "cell_type": "markdown",
   "metadata": {},
   "source": [
    "### DQN block"
   ]
  },
  {
   "cell_type": "code",
   "execution_count": 12,
   "metadata": {},
   "outputs": [],
   "source": [
    "# Intitialise some variables for use in tracking rewards\n",
    "rewards_per_episode, episodes, avg_rewards_per_episode = [], [], []\n",
    "\n",
    "# Initialise the agent\n",
    "env = CabDriver()\n",
    "agent = DQNAgent(state_size=len(env.state_encod_arch1(env.state_init)), action_size=len(env.action_space))\n",
    "\n",
    "# Since the car has to be recharged every 30 days, defining max episode duration\n",
    "episode_time = 24*30 "
   ]
  },
  {
   "cell_type": "code",
   "execution_count": 13,
   "metadata": {},
   "outputs": [
    {
     "name": "stderr",
     "output_type": "stream",
     "text": [
      "/home/siddhant/anaconda3/lib/python3.8/site-packages/tensorflow/python/keras/engine/training.py:2426: UserWarning: `Model.state_updates` will be removed in a future version. This property should not be used in TensorFlow 2.0, as `updates` are applied automatically.\n",
      "  warnings.warn('`Model.state_updates` will be removed in a future version. '\n",
      "2022-01-25 07:30:56.094992: I tensorflow/core/platform/profile_utils/cpu_utils.cc:114] CPU Frequency: 2594055000 Hz\n"
     ]
    },
    {
     "name": "stdout",
     "output_type": "stream",
     "text": [
      "Episode 200,\tReward -63.0,\t Memory_length 2000,\t epsilon 0.9417651159389129,\t Total_time 720.0\n",
      "Saving Model weights at episode 200\n",
      "Episode 400,\tReward -103.0,\t Memory_length 2000,\t epsilon 0.8869215675127903,\t Total_time 728.0\n",
      "Saving Model weights at episode 400\n",
      "Episode 600,\tReward 526.0,\t Memory_length 2000,\t epsilon 0.8352718587091579,\t Total_time 721.0\n",
      "Saving Model weights at episode 600\n",
      "Episode 800,\tReward 571.0,\t Memory_length 2000,\t epsilon 0.7866299947879428,\t Total_time 721.0\n",
      "Saving Model weights at episode 800\n",
      "Episode 1000,\tReward 787.0,\t Memory_length 2000,\t epsilon 0.740820812499511,\t Total_time 721.0\n",
      "Saving Model weights at episode 1000\n",
      "Saving Model at episode 1000\n",
      "Episode 1200,\tReward 621.0,\t Memory_length 2000,\t epsilon 0.6976793493077703,\t Total_time 720.0\n",
      "Saving Model weights at episode 1200\n",
      "Episode 1400,\tReward 380.0,\t Memory_length 2000,\t epsilon 0.6570502493468586,\t Total_time 725.0\n",
      "Saving Model weights at episode 1400\n",
      "Episode 1600,\tReward 1004.0,\t Memory_length 2000,\t epsilon 0.6187872039722228,\t Total_time 728.0\n",
      "Saving Model weights at episode 1600\n",
      "Episode 1800,\tReward 698.0,\t Memory_length 2000,\t epsilon 0.582752424891466,\t Total_time 728.0\n",
      "Saving Model weights at episode 1800\n",
      "Episode 2000,\tReward 1266.0,\t Memory_length 2000,\t epsilon 0.5488161479776654,\t Total_time 726.0\n",
      "Saving Model weights at episode 2000\n",
      "Saving Model at episode 2000\n",
      "Episode 2200,\tReward 1170.0,\t Memory_length 2000,\t epsilon 0.5168561659783544,\t Total_time 720.0\n",
      "Saving Model weights at episode 2200\n",
      "Episode 2400,\tReward 1272.0,\t Memory_length 2000,\t epsilon 0.4867573884374121,\t Total_time 723.0\n",
      "Saving Model weights at episode 2400\n",
      "Episode 2600,\tReward 1056.0,\t Memory_length 2000,\t epsilon 0.4584114272451105,\t Total_time 723.0\n",
      "Saving Model weights at episode 2600\n",
      "Episode 2800,\tReward 1206.0,\t Memory_length 2000,\t epsilon 0.43171620632384544,\t Total_time 720.0\n",
      "Saving Model weights at episode 2800\n",
      "Episode 3000,\tReward 1530.0,\t Memory_length 2000,\t epsilon 0.4065755940440018,\t Total_time 720.0\n",
      "Saving Model weights at episode 3000\n",
      "Saving Model at episode 3000\n",
      "Episode 3200,\tReward 1520.0,\t Memory_length 2000,\t epsilon 0.3828990570462523,\t Total_time 722.0\n",
      "Saving Model weights at episode 3200\n",
      "Episode 3400,\tReward 1801.0,\t Memory_length 2000,\t epsilon 0.3606013342236766,\t Total_time 727.0\n",
      "Saving Model weights at episode 3400\n",
      "Episode 3600,\tReward 1538.0,\t Memory_length 2000,\t epsilon 0.3396021296896828,\t Total_time 722.0\n",
      "Saving Model weights at episode 3600\n",
      "Episode 3800,\tReward 1928.0,\t Memory_length 2000,\t epsilon 0.3198258236260858,\t Total_time 725.0\n",
      "Saving Model weights at episode 3800\n",
      "Episode 4000,\tReward 2053.0,\t Memory_length 2000,\t epsilon 0.30120119997008304,\t Total_time 727.0\n",
      "Saving Model weights at episode 4000\n",
      "Saving Model at episode 4000\n",
      "Episode 4200,\tReward 1971.0,\t Memory_length 2000,\t epsilon 0.28366118995950546,\t Total_time 720.0\n",
      "Saving Model weights at episode 4200\n",
      "Episode 4400,\tReward 1935.0,\t Memory_length 2000,\t epsilon 0.2671426306128308,\t Total_time 720.0\n",
      "Saving Model weights at episode 4400\n",
      "Episode 4600,\tReward 1845.0,\t Memory_length 2000,\t epsilon 0.25158603727422596,\t Total_time 720.0\n",
      "Saving Model weights at episode 4600\n",
      "Episode 4800,\tReward 2321.0,\t Memory_length 2000,\t epsilon 0.23693538940453496,\t Total_time 722.0\n",
      "Saving Model weights at episode 4800\n",
      "Episode 5000,\tReward 2177.0,\t Memory_length 2000,\t epsilon 0.2231379288468284,\t Total_time 722.0\n",
      "Saving Model weights at episode 5000\n",
      "Saving Model at episode 5000\n",
      "Episode 5200,\tReward 1836.0,\t Memory_length 2000,\t epsilon 0.2101439698400528,\t Total_time 729.0\n",
      "Saving Model weights at episode 5200\n",
      "Episode 5400,\tReward 1796.0,\t Memory_length 2000,\t epsilon 0.19790672009662388,\t Total_time 728.0\n",
      "Saving Model weights at episode 5400\n",
      "Episode 5600,\tReward 2249.0,\t Memory_length 2000,\t epsilon 0.1863821122996496,\t Total_time 722.0\n",
      "Saving Model weights at episode 5600\n",
      "Episode 5800,\tReward 2266.0,\t Memory_length 2000,\t epsilon 0.17552864541299076,\t Total_time 724.0\n",
      "Saving Model weights at episode 5800\n",
      "Episode 6000,\tReward 2367.0,\t Memory_length 2000,\t epsilon 0.16530723523270435,\t Total_time 720.0\n",
      "Saving Model weights at episode 6000\n",
      "Saving Model at episode 6000\n",
      "Episode 6200,\tReward 2457.0,\t Memory_length 2000,\t epsilon 0.15568107364169367,\t Total_time 720.0\n",
      "Saving Model weights at episode 6200\n",
      "Episode 6400,\tReward 2335.0,\t Memory_length 2000,\t epsilon 0.14661549606072888,\t Total_time 721.0\n",
      "Saving Model weights at episode 6400\n",
      "Episode 6600,\tReward 2558.0,\t Memory_length 2000,\t epsilon 0.13807785661851976,\t Total_time 725.0\n",
      "Saving Model weights at episode 6600\n",
      "Episode 6800,\tReward 2325.0,\t Memory_length 2000,\t epsilon 0.13003741059131713,\t Total_time 723.0\n",
      "Saving Model weights at episode 6800\n",
      "Episode 7000,\tReward 2214.0,\t Memory_length 2000,\t epsilon 0.12246520368869943,\t Total_time 720.0\n",
      "Saving Model weights at episode 7000\n",
      "Saving Model at episode 7000\n",
      "Episode 7200,\tReward 2583.0,\t Memory_length 2000,\t epsilon 0.11533396778685218,\t Total_time 729.0\n",
      "Saving Model weights at episode 7200\n",
      "Episode 7400,\tReward 2389.0,\t Memory_length 2000,\t epsilon 0.10861802273386977,\t Total_time 721.0\n",
      "Saving Model weights at episode 7400\n",
      "Episode 7600,\tReward 2503.0,\t Memory_length 2000,\t epsilon 0.10229318387347032,\t Total_time 727.0\n",
      "Saving Model weights at episode 7600\n",
      "Episode 7800,\tReward 2471.0,\t Memory_length 2000,\t epsilon 0.09633667495411073,\t Total_time 728.0\n",
      "Saving Model weights at episode 7800\n",
      "Episode 8000,\tReward 2469.0,\t Memory_length 2000,\t epsilon 0.09072704610987961,\t Total_time 723.0\n",
      "Saving Model weights at episode 8000\n",
      "Saving Model at episode 8000\n",
      "Episode 8200,\tReward 2737.0,\t Memory_length 2000,\t epsilon 0.08544409661781156,\t Total_time 727.0\n",
      "Saving Model weights at episode 8200\n",
      "Episode 8400,\tReward 2592.0,\t Memory_length 2000,\t epsilon 0.08046880215346497,\t Total_time 720.0\n",
      "Saving Model weights at episode 8400\n",
      "Episode 8600,\tReward 2505.0,\t Memory_length 2000,\t epsilon 0.07578324628280528,\t Total_time 723.0\n",
      "Saving Model weights at episode 8600\n",
      "Episode 8800,\tReward 2646.0,\t Memory_length 2000,\t epsilon 0.07137055594369052,\t Total_time 720.0\n",
      "Saving Model weights at episode 8800\n",
      "Episode 9000,\tReward 2511.0,\t Memory_length 2000,\t epsilon 0.06721484068462238,\t Total_time 720.0\n",
      "Saving Model weights at episode 9000\n",
      "Saving Model at episode 9000\n",
      "Episode 9200,\tReward 2653.0,\t Memory_length 2000,\t epsilon 0.06330113544195713,\t Total_time 724.0\n",
      "Saving Model weights at episode 9200\n",
      "Episode 9400,\tReward 2539.0,\t Memory_length 2000,\t epsilon 0.059615346649512284,\t Total_time 727.0\n",
      "Saving Model weights at episode 9400\n",
      "Episode 9600,\tReward 2733.0,\t Memory_length 2000,\t epsilon 0.05614420148650539,\t Total_time 726.0\n",
      "Saving Model weights at episode 9600\n",
      "Episode 9800,\tReward 2601.0,\t Memory_length 2000,\t epsilon 0.05287520008106299,\t Total_time 720.0\n",
      "Saving Model weights at episode 9800\n",
      "Episode 10000,\tReward 2579.0,\t Memory_length 2000,\t epsilon 0.049796570497180295,\t Total_time 728.0\n",
      "Saving Model weights at episode 10000\n",
      "Saving Model at episode 10000\n",
      "Episode 10200,\tReward 2460.0,\t Memory_length 2000,\t epsilon 0.046897226343036315,\t Total_time 723.0\n",
      "Saving Model weights at episode 10200\n",
      "Episode 10400,\tReward 2812.0,\t Memory_length 2000,\t epsilon 0.04416672684800869,\t Total_time 721.0\n",
      "Saving Model weights at episode 10400\n",
      "Episode 10600,\tReward 2690.0,\t Memory_length 2000,\t epsilon 0.041595239264621976,\t Total_time 722.0\n",
      "Saving Model weights at episode 10600\n",
      "Episode 10800,\tReward 2695.0,\t Memory_length 2000,\t epsilon 0.0391735034600361,\t Total_time 721.0\n",
      "Saving Model weights at episode 10800\n",
      "Episode 11000,\tReward 2610.0,\t Memory_length 2000,\t epsilon 0.03689279856956601,\t Total_time 720.0\n",
      "Saving Model weights at episode 11000\n",
      "Saving Model at episode 11000\n",
      "Episode 11200,\tReward 2623.0,\t Memory_length 2000,\t epsilon 0.03474491159214912,\t Total_time 721.0\n",
      "Saving Model weights at episode 11200\n",
      "Episode 11400,\tReward 2567.0,\t Memory_length 2000,\t epsilon 0.03272210781467045,\t Total_time 725.0\n",
      "Saving Model weights at episode 11400\n",
      "Episode 11600,\tReward 2574.0,\t Memory_length 2000,\t epsilon 0.030817102958640763,\t Total_time 720.0\n",
      "Saving Model weights at episode 11600\n",
      "Episode 11800,\tReward 2756.0,\t Memory_length 2000,\t epsilon 0.029023036948926245,\t Total_time 725.0\n",
      "Saving Model weights at episode 11800\n",
      "Episode 12000,\tReward 2572.0,\t Memory_length 2000,\t epsilon 0.027333449210068098,\t Total_time 724.0\n",
      "Saving Model weights at episode 12000\n",
      "Saving Model at episode 12000\n",
      "Episode 12200,\tReward 2659.0,\t Memory_length 2000,\t epsilon 0.02574225540123269,\t Total_time 730.0\n",
      "Saving Model weights at episode 12200\n",
      "Episode 12400,\tReward 2550.0,\t Memory_length 2000,\t epsilon 0.024243725506012666,\t Total_time 732.0\n",
      "Saving Model weights at episode 12400\n",
      "Episode 12600,\tReward 2642.0,\t Memory_length 2000,\t epsilon 0.02283246319817873,\t Total_time 728.0\n",
      "Saving Model weights at episode 12600\n",
      "Episode 12800,\tReward 2592.0,\t Memory_length 2000,\t epsilon 0.021503386409076473,\t Total_time 720.0\n",
      "Saving Model weights at episode 12800\n",
      "Episode 13000,\tReward 2758.0,\t Memory_length 2000,\t epsilon 0.02025170902668994,\t Total_time 721.0\n",
      "Saving Model weights at episode 13000\n",
      "Saving Model at episode 13000\n",
      "Episode 13200,\tReward 2625.0,\t Memory_length 2000,\t epsilon 0.019072923660468727,\t Total_time 726.0\n",
      "Saving Model weights at episode 13200\n",
      "Episode 13400,\tReward 2770.0,\t Memory_length 2000,\t epsilon 0.017962785409853473,\t Total_time 724.0\n",
      "Saving Model weights at episode 13400\n",
      "Episode 13600,\tReward 2754.0,\t Memory_length 2000,\t epsilon 0.016917296578048753,\t Total_time 720.0\n",
      "Saving Model weights at episode 13600\n",
      "Episode 13800,\tReward 2763.0,\t Memory_length 2000,\t epsilon 0.015932692275996654,\t Total_time 720.0\n",
      "Saving Model weights at episode 13800\n",
      "Episode 14000,\tReward 2680.0,\t Memory_length 2000,\t epsilon 0.015005426864709513,\t Total_time 724.0\n",
      "Saving Model weights at episode 14000\n",
      "Saving Model at episode 14000\n",
      "Episode 14200,\tReward 2831.0,\t Memory_length 2000,\t epsilon 0.01413216118713986,\t Total_time 728.0\n",
      "Saving Model weights at episode 14200\n",
      "Episode 14400,\tReward 2778.0,\t Memory_length 2000,\t epsilon 0.013309750543608355,\t Total_time 726.0\n",
      "Saving Model weights at episode 14400\n",
      "Episode 14600,\tReward 2661.0,\t Memory_length 2000,\t epsilon 0.012535233367488175,\t Total_time 726.0\n",
      "Saving Model weights at episode 14600\n",
      "Episode 14800,\tReward 2789.0,\t Memory_length 2000,\t epsilon 0.011805820560366375,\t Total_time 722.0\n",
      "Saving Model weights at episode 14800\n",
      "Episode 15000,\tReward 2682.0,\t Memory_length 2000,\t epsilon 0.011118885448276924,\t Total_time 720.0\n",
      "Saving Model weights at episode 15000\n",
      "Saving Model at episode 15000\n",
      "Episode 15200,\tReward 2796.0,\t Memory_length 2000,\t epsilon 0.01047195432283737,\t Total_time 726.0\n",
      "Saving Model weights at episode 15200\n",
      "Episode 15400,\tReward 2497.0,\t Memory_length 2000,\t epsilon 0.009862697533226654,\t Total_time 730.0\n",
      "Saving Model weights at episode 15400\n",
      "Episode 15600,\tReward 2619.0,\t Memory_length 2000,\t epsilon 0.009288921096925874,\t Total_time 720.0\n",
      "Saving Model weights at episode 15600\n",
      "Episode 15800,\tReward 2621.0,\t Memory_length 2000,\t epsilon 0.008748558799011442,\t Total_time 725.0\n",
      "Saving Model weights at episode 15800\n",
      "Episode 16000,\tReward 2622.0,\t Memory_length 2000,\t epsilon 0.00823966475154954,\t Total_time 723.0\n",
      "Saving Model weights at episode 16000\n",
      "Saving Model at episode 16000\n",
      "Episode 16200,\tReward 2592.0,\t Memory_length 2000,\t epsilon 0.007760406386297787,\t Total_time 720.0\n",
      "Saving Model weights at episode 16200\n",
      "Episode 16400,\tReward 2609.0,\t Memory_length 2000,\t epsilon 0.007309057855480115,\t Total_time 722.0\n",
      "Saving Model weights at episode 16400\n",
      "Episode 16600,\tReward 2610.0,\t Memory_length 2000,\t epsilon 0.00688399381687068,\t Total_time 720.0\n",
      "Saving Model weights at episode 16600\n",
      "Episode 16800,\tReward 2645.0,\t Memory_length 2000,\t epsilon 0.006483683580806228,\t Total_time 722.0\n",
      "Saving Model weights at episode 16800\n",
      "Episode 17000,\tReward 2662.0,\t Memory_length 2000,\t epsilon 0.0061066855980499825,\t Total_time 724.0\n",
      "Saving Model weights at episode 17000\n",
      "Saving Model at episode 17000\n",
      "Episode 17200,\tReward 2689.0,\t Memory_length 2000,\t epsilon 0.00575164226865735,\t Total_time 724.0\n",
      "Saving Model weights at episode 17200\n",
      "Episode 17400,\tReward 2682.0,\t Memory_length 2000,\t epsilon 0.005417275053149696,\t Total_time 729.0\n",
      "Saving Model weights at episode 17400\n",
      "Episode 17600,\tReward 2623.0,\t Memory_length 2000,\t epsilon 0.005102379868391268,\t Total_time 721.0\n",
      "Saving Model weights at episode 17600\n",
      "Episode 17800,\tReward 2403.0,\t Memory_length 2000,\t epsilon 0.004805822751589318,\t Total_time 729.0\n",
      "Saving Model weights at episode 17800\n",
      "Episode 18000,\tReward 2660.0,\t Memory_length 2000,\t epsilon 0.004526535776803244,\t Total_time 728.0\n",
      "Saving Model weights at episode 18000\n",
      "Saving Model at episode 18000\n",
      "Episode 18200,\tReward 2676.0,\t Memory_length 2000,\t epsilon 0.004263513209257677,\t Total_time 723.0\n",
      "Saving Model weights at episode 18200\n",
      "Episode 18400,\tReward 2655.0,\t Memory_length 2000,\t epsilon 0.004015807883610999,\t Total_time 720.0\n",
      "Saving Model weights at episode 18400\n",
      "Episode 18600,\tReward 2738.0,\t Memory_length 2000,\t epsilon 0.003782527793137021,\t Total_time 725.0\n",
      "Saving Model weights at episode 18600\n",
      "Episode 18800,\tReward 2631.0,\t Memory_length 2000,\t epsilon 0.0035628328775373,\t Total_time 723.0\n",
      "Saving Model weights at episode 18800\n",
      "Episode 19000,\tReward 2636.0,\t Memory_length 2000,\t epsilon 0.0033559319978167007,\t Total_time 722.0\n",
      "Saving Model weights at episode 19000\n",
      "Saving Model at episode 19000\n",
      "Episode 19200,\tReward 2626.0,\t Memory_length 2000,\t epsilon 0.003161080087328457,\t Total_time 724.0\n",
      "Saving Model weights at episode 19200\n",
      "Episode 19400,\tReward 2614.0,\t Memory_length 2000,\t epsilon 0.002977575468729499,\t Total_time 721.0\n",
      "Saving Model weights at episode 19400\n",
      "Episode 19600,\tReward 2557.0,\t Memory_length 2000,\t epsilon 0.0028047573271840934,\t Total_time 727.0\n",
      "Saving Model weights at episode 19600\n",
      "Episode 19800,\tReward 2626.0,\t Memory_length 2000,\t epsilon 0.0026420033307166906,\t Total_time 724.0\n",
      "Saving Model weights at episode 19800\n",
      "Episode 20000,\tReward 2623.0,\t Memory_length 2000,\t epsilon 0.002488727389144594,\t Total_time 721.0\n",
      "Saving Model weights at episode 20000\n",
      "Saving Model at episode 20000\n"
     ]
    }
   ],
   "source": [
    "start_time = time.time()\n",
    "for episode in range(1,Episodes+1):\n",
    "\n",
    "    # Write code here\n",
    "    # Call the environment\n",
    "    env = CabDriver()\n",
    "    \n",
    "    score = 0           # to calculate rewards for current episode\n",
    "    total_time = 0      # to calculate total time during current episode.\n",
    "    \n",
    "    done = False        # to keep track of end of episode\n",
    "         \n",
    "    # Call all the initialised variables of the environment\n",
    "    action_space, state_space, state = env.reset()\n",
    "            \n",
    "    #Call the DQN agent\n",
    "    #agent = DQNAgent(action_size=len(action_space), state_size=len(env.state_encod_arch1(env.state_init)))\n",
    "    \n",
    "    while not done:\n",
    "        \n",
    "        # Write your code here\n",
    "               \n",
    "        # 1. Pick epsilon-greedy action from possible actions for the current state\n",
    "        \n",
    "        possible_actions_index, actions = env.requests(state)\n",
    "        action_index, action = agent.get_action(env.state_encod_arch1(state), env.action_space, possible_actions_index)\n",
    "        \n",
    "        # 2. Evaluate your reward and next state\n",
    "        next_state, wait_time, transit_time, ride_time = env.next_state_func(state, action, Time_matrix)\n",
    "        reward = env.reward_func(state, action, Time_matrix)\n",
    "        step_time = wait_time + transit_time + ride_time\n",
    "        \n",
    "        # 3. Append the experience to the memory\n",
    "        total_time += step_time\n",
    "        \n",
    "        agent.append_sample(env.state_encod_arch1(state), action_index,reward, env.state_encod_arch1(next_state))\n",
    "        \n",
    "        \n",
    "        # 4. Train the model by calling function agent.train_model\n",
    "        if (episode - 1) % 20 == 0:      # Training every 20 episodes to reduce runtimes\n",
    "            agent.train_model()\n",
    "        \n",
    "        # 5. Keep a track of rewards, Q-values, loss\n",
    "        score += reward\n",
    "        state = next_state\n",
    "                \n",
    "        if total_time >= episode_time:\n",
    "            done = True                  # End of episode\n",
    "        \n",
    "    # store total reward obtained in this episode\n",
    "    rewards_per_episode.append(score)\n",
    "    episodes.append(episode)\n",
    "    \n",
    "    # epsilon decay\n",
    "    if agent.epsilon > agent.epsilon_min:\n",
    "        agent.epsilon = agent.epsilon_min + (agent.epsilon_max - agent.epsilon_min) * np.exp(-agent.epsilon_decay*episode)\n",
    "            \n",
    "    # Save the Q_value of the state, action pair we are tracking\n",
    "    if (episode % 20 == 0):\n",
    "        agent.store_q_values()\n",
    "    \n",
    "    # Save model and model weights at regular intervals.\n",
    "    \n",
    "    if((episode) % 200 == 0):\n",
    "        print(\"Episode {0},\\tReward {1},\\t Memory_length {2},\\t epsilon {3},\\t Total_time {4}\".format(episode,score,len(agent.memory),agent.epsilon, total_time))\n",
    "        \n",
    "        print(\"Saving Model weights at episode {}\".format(episode))\n",
    "        agent.save_weights(name = './Model_Weights/model_9_weights_at_episode' + str(episode))      \n",
    "    \n",
    "    if((episode) % 1000 == 0):\n",
    "        print(\"Saving Model at episode {}\".format(episode))\n",
    "        agent.save_model(model_name=\"./Models/model_9_at_episode\" + str(episode) + \".h5\")\n",
    "     \n",
    "agent.save_model(model_name=\"./Models/model_9_final.h5\")  \n",
    "agent.save_weights(name = './Model_Weights/model_9_weights_final')"
   ]
  },
  {
   "cell_type": "markdown",
   "metadata": {},
   "source": [
    "### Tracking Convergence"
   ]
  },
  {
   "cell_type": "code",
   "execution_count": 14,
   "metadata": {},
   "outputs": [
    {
     "data": {
      "image/png": "[encoded data removed]",
      "text/plain": [
       "<Figure size 432x288 with 1 Axes>"
      ]
     },
     "metadata": {
      "needs_background": "light"
     },
     "output_type": "display_data"
    }
   ],
   "source": [
    "# Check Convergence by tracking total rewards per episode vs episode number\n",
    "plt.plot(list(range(len(rewards_per_episode))), rewards_per_episode)\n",
    "plt.ylabel(\"Total rewards\")\n",
    "plt.xlabel(\"Episodes\")\n",
    "plt.show()"
   ]
  },
  {
   "cell_type": "code",
   "execution_count": 15,
   "metadata": {},
   "outputs": [
    {
     "name": "stdout",
     "output_type": "stream",
     "text": [
      "[-120.34, -86.2, -35.18, 21.23, 95.07, 125.46, 248.49, 343.72, 330.91, 504.09, 539.69, 551.81, 652.55, 769.34, 784.99, 938.67, 939.81, 931.76, 1001.92, 1120.14, 1115.75, 1170.58, 1185.4, 1243.26, 1309.73, 1346.42, 1395.5, 1398.75, 1478.25, 1522.2, 1516.89, 1589.02, 1605.65, 1682.73, 1699.44, 1711.01, 1721.11, 1760.24, 1837.57, 1824.04, 1889.12, 1899.14, 1907.76, 1954.09, 1922.93, 1981.52, 2007.16, 1984.75, 2046.69, 2065.89, 2058.3, 2066.41, 2083.06, 2154.61, 2162.94, 2165.89, 2190.97, 2213.78, 2237.27, 2231.42, 2249.66, 2298.54, 2274.64, 2267.7, 2291.46, 2316.23, 2355.41, 2367.41, 2376.54, 2390.18, 2397.56, 2418.01, 2442.96, 2446.41, 2452.69, 2447.3, 2462.6, 2437.99, 2479.18, 2463.62, 2496.63, 2480.78, 2519.24, 2528.53, 2514.34, 2541.93, 2533.18, 2539.74, 2548.18, 2538.95, 2579.03, 2588.82, 2585.03, 2549.76, 2580.1, 2613.87, 2596.76, 2600.83, 2622.63, 2623.1, 2635.39, 2610.1, 2601.54, 2635.9, 2639.41, 2614.81, 2631.32, 2636.3, 2645.84, 2644.15, 2665.21, 2639.75, 2677.44, 2637.78, 2620.7, 2638.82, 2695.43, 2684.02, 2668.76, 2676.86, 2668.06, 2685.41, 2681.82, 2650.61, 2668.63, 2651.09, 2659.8, 2643.27, 2690.41, 2673.45, 2693.22, 2646.29, 2681.42, 2676.22, 2667.64, 2681.34, 2673.16, 2666.16, 2686.48, 2685.28, 2690.19, 2632.35, 2678.57, 2703.38, 2697.03, 2679.74, 2676.18, 2705.74, 2653.75, 2711.05, 2674.61, 2723.38, 2714.42, 2695.24, 2704.39, 2699.09, 2680.22, 2711.72, 2673.17, 2622.72, 2630.1, 2643.04, 2646.73, 2612.0, 2624.39, 2621.08, 2622.67, 2597.89, 2620.79, 2640.09, 2618.21, 2657.09, 2611.58, 2639.58, 2639.22, 2609.77, 2639.85, 2560.5, 2632.67, 2626.1, 2641.07, 2649.3, 2639.41, 2617.55, 2626.65, 2663.13, 2657.43, 2615.2, 2613.04, 2629.92, 2614.21, 2625.18, 2627.72, 2626.51, 2640.5, 2627.66, 2627.26, 2621.68, 2621.9, 2622.94]\n"
     ]
    }
   ],
   "source": [
    "# Average reward per 100 episode to view the general trend\n",
    "\n",
    "avg_rewards = []\n",
    "episodes = len(rewards_per_episode)\n",
    "index = 0\n",
    "track_total_reward = 0\n",
    "for episode_number in range(Episodes):\n",
    "    if index != 100:\n",
    "        track_total_reward += rewards_per_episode[episode_number]\n",
    "        index += 1\n",
    "    else:\n",
    "        avg_rewards.append(track_total_reward/index)\n",
    "        track_total_reward = rewards_per_episode[episode_number]\n",
    "        index = 1\n",
    "\n",
    "avg_rewards.append(track_total_reward/index)\n",
    "        \n",
    "    \n",
    "print(avg_rewards)"
   ]
  },
  {
   "cell_type": "code",
   "execution_count": 16,
   "metadata": {},
   "outputs": [
    {
     "data": {
      "image/png": "[encoded data removed]",
      "text/plain": [
       "<Figure size 432x288 with 1 Axes>"
      ]
     },
     "metadata": {
      "needs_background": "light"
     },
     "output_type": "display_data"
    }
   ],
   "source": [
    "## Check Convergence by tracking average rewards per episode vs episode number\n",
    "plt.plot(list(range(len(avg_rewards))), avg_rewards)\n",
    "plt.ylabel(\"Average rewards every 100 episodes\")\n",
    "plt.xlabel(\"Episodes\")\n",
    "plt.show()"
   ]
  },
  {
   "cell_type": "code",
   "execution_count": 17,
   "metadata": {},
   "outputs": [
    {
     "data": {
      "image/png": "[encoded data removed]",
      "text/plain": [
       "<Figure size 1152x504 with 1 Axes>"
      ]
     },
     "metadata": {
      "needs_background": "light"
     },
     "output_type": "display_data"
    }
   ],
   "source": [
    "plt.figure(0, figsize=(16,7))\n",
    "plt.title('Q_value for state [1,0,0]  action (1,3)')\n",
    "xaxis = np.asarray(range(0, len(agent.states_tracked)))\n",
    "plt.semilogy(xaxis,np.asarray(agent.states_tracked))\n",
    "plt.show()"
   ]
  },
  {
   "cell_type": "markdown",
   "metadata": {},
   "source": [
    "#### Epsilon-decay sample function"
   ]
  },
  {
   "cell_type": "markdown",
   "metadata": {},
   "source": [
    "<div class=\"alert alert-block alert-info\">\n",
    "Try building a similar epsilon-decay function for your model.\n",
    "</div>"
   ]
  },
  {
   "cell_type": "code",
   "execution_count": 27,
   "metadata": {},
   "outputs": [],
   "source": [
    "time = np.arange(0,20000)\n",
    "epsilon = []\n",
    "for i in range(0,20000):\n",
    "    epsilon.append(0.00001 + (1 - 0.00001) * np.exp(-0.0003*i))"
   ]
  },
  {
   "cell_type": "code",
   "execution_count": 28,
   "metadata": {},
   "outputs": [
    {
     "data": {
      "image/png": "[encoded data removed]",
      "text/plain": [
       "<Figure size 432x288 with 1 Axes>"
      ]
     },
     "metadata": {
      "needs_background": "light"
     },
     "output_type": "display_data"
    }
   ],
   "source": [
    "plt.plot(time, epsilon)\n",
    "plt.show()"
   ]
  },
  {
   "cell_type": "code",
   "execution_count": null,
   "metadata": {},
   "outputs": [],
   "source": []
  }
 ],
 "metadata": {
  "kernelspec": {
   "display_name": "Python 3 (ipykernel)",
   "language": "python",
   "name": "python3"
  },
  "language_info": {
   "codemirror_mode": {
    "name": "ipython",
    "version": 3
   },
   "file_extension": ".py",
   "mimetype": "text/x-python",
   "name": "python",
   "nbconvert_exporter": "python",
   "pygments_lexer": "ipython3",
   "version": "3.8.8"
  }
 },
 "nbformat": 4,
 "nbformat_minor": 4
}
